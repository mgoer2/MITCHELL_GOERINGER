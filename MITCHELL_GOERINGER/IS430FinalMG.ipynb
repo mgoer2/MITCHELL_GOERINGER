{
 "cells": [
  {
   "cell_type": "markdown",
   "id": "65825a72-cba8-42ca-81ee-353e72eef956",
   "metadata": {},
   "source": [
    "# IS 430 Final Project - Workout Generator\n",
    "\n",
    "By: Mitchell Goeringer"
   ]
  },
  {
   "cell_type": "markdown",
   "id": "79f79e46-c73c-4ae9-b39f-06c5837c8ad9",
   "metadata": {},
   "source": [
    "## Use this Generator to Craft the Perfect Workout!"
   ]
  },
  {
   "cell_type": "code",
   "execution_count": 1,
   "id": "82fabb73-15b5-47cd-82d6-9e10b72514f4",
   "metadata": {},
   "outputs": [
    {
     "data": {
      "application/vnd.jupyter.widget-view+json": {
       "model_id": "507d3d330d584cbcac7c656c3eae7a16",
       "version_major": 2,
       "version_minor": 0
      },
      "text/plain": [
       "VBox(children=(Dropdown(description='Bodypart:', options=('Abdominals', 'Abductors', 'Adductors', 'Biceps', 'C…"
      ]
     },
     "metadata": {},
     "output_type": "display_data"
    }
   ],
   "source": [
    "import pandas as pd # Imports the modules that will be used in this program\n",
    "from IPython.display import display, clear_output, HTML\n",
    "import ipywidgets as w\n",
    "\n",
    "df = pd.read_csv(\"WorkoutDataset.csv\", encoding = \"unicode-escape\") # Reads in the dataset\n",
    "\n",
    "lower_case = {c.lower(): c for c in df.columns}\n",
    "\n",
    "# Creates identifiers for the columns, in lowercase to avoid possible issues with capitalization\n",
    "name_col = lower_case.get(\"title\")\n",
    "desc_col = lower_case.get(\"desc\")\n",
    "bp_col = lower_case.get(\"bodypart\")\n",
    "eq_col = lower_case.get(\"equipment\")\n",
    "lvl_col = lower_case.get(\"level\")\n",
    "\n",
    "# Creates options in alphabetical order, except the difficulty levels, which are sorted by their respective levels\n",
    "def opts(col):\n",
    "    a = df.get(col).dropna()\n",
    "    return sorted(b for b in a.unique() if b)\n",
    "\n",
    "bp_opts = opts(bp_col) # Determines the options that can be selected in the dropdowns in the widget\n",
    "eq_opts = opts(eq_col)\n",
    "lv_opts = [\"Beginner\",\"Intermediate\",\"Expert\"]\n",
    "\n",
    "# Sets up the widgets to filter the differet workouts based on desired bodypart, equipment available, and difficulty level\n",
    "bp_dis = w.Dropdown(options = bp_opts, description = \"Bodypart:\")\n",
    "eq_dis = w.Dropdown(options = ([\"Any\"] + eq_opts), description = \"Equipment:\")\n",
    "lv_dis = w.Dropdown(options = lv_opts, description = \"Level:\")\n",
    "but = w.Button(description = \"Display Workouts!\", button_style = \"info\")\n",
    "out = w.Output()\n",
    "\n",
    "# Removed the numerical values assigned to each exercise by the dataset and allowed it to be displayed in a table\n",
    "def table(df_view):\n",
    "        display(HTML(df_view.to_html(index=False)))\n",
    "\n",
    "# Makes a copy of the dataframe in order to sort through and avoid complications in the selection process\n",
    "def view(bp, eq, lv, n=10):\n",
    "    new_df = df.copy()\n",
    "    if bp and bp_col: new_df = new_df[new_df[bp_col].str.lower()==bp.lower()]\n",
    "    if eq and eq != \"Any\": new_df = new_df[new_df[eq_col].str.contains(eq, case=False, na=False)]\n",
    "    if lv: new_df = new_df[new_df[lvl_col].str.lower()==lv.lower()]\n",
    "\n",
    "    if new_df.empty: # Displays an error message if there are no exact matches\n",
    "        print(\"No Exact Matches :( Showing top results for selected bodypart:\")\n",
    "        new_df = df[df[bp_col].str.lower()==bp.lower()]\n",
    "\n",
    "    if desc_col in new_df.columns: # Puts workouts with a description recomended more often\n",
    "        new_df = new_df.sort_values(by=desc_col)\n",
    "\n",
    "# Sets the number of sets and reps based on the difficulty level, as well as allows for the sets to be changed if an exact match is not found\n",
    "    new_df[\"Sets\"] = 3 if \"Expert\" in lv else 2 if \"Intermediate\" in lv else 1\n",
    "    new_df[\"Reps\"] = 10\n",
    "\n",
    "    columns = [] # Orders the table so that descriptions come last, and adds in the sets and reps columns\n",
    "    if name_col: columns.append(name_col)\n",
    "    if bp_col: columns.append(bp_col)\n",
    "    if eq_col: columns.append(eq_col)\n",
    "    if lvl_col: columns.append(lvl_col)\n",
    "    columns = columns + [\"Sets\",\"Reps\"]\n",
    "    if desc_col: columns.append(desc_col)\n",
    "    new_df = new_df[columns].head(n)\n",
    "\n",
    "    rename = {} # Renames the columns for a better user experience as well as formating the table\n",
    "    rename[name_col] = \"Exercise\"\n",
    "    rename[bp_col] = \"Bodypart\"\n",
    "    rename[eq_col] = \"Equipment Needed\"\n",
    "    rename[lvl_col] = \"Difficulty Level\"\n",
    "    rename[desc_col] = \"Description\"\n",
    "    table(new_df.rename(columns=rename))\n",
    "\n",
    "def click(_): # Controls what is displayed once the button is clicked\n",
    "    with out:\n",
    "        clear_output()\n",
    "        view(bp_dis.value, eq_dis.value, lv_dis.value, n=10) # Decides the number of exercises displayed in the output\n",
    "\n",
    "but.on_click(click)\n",
    "display(w.VBox([bp_dis, eq_dis, lv_dis, but, out])) # Final display where the selections are made"
   ]
  }
 ],
 "metadata": {
  "kernelspec": {
   "display_name": "Python 3 (ipykernel)",
   "language": "python",
   "name": "python3"
  },
  "language_info": {
   "codemirror_mode": {
    "name": "ipython",
    "version": 3
   },
   "file_extension": ".py",
   "mimetype": "text/x-python",
   "name": "python",
   "nbconvert_exporter": "python",
   "pygments_lexer": "ipython3",
   "version": "3.12.8"
  }
 },
 "nbformat": 4,
 "nbformat_minor": 5
}
